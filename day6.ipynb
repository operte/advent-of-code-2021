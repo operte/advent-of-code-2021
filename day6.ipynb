{
 "cells": [
  {
   "cell_type": "code",
   "execution_count": 11,
   "metadata": {},
   "outputs": [],
   "source": [
    "import numpy as np"
   ]
  },
  {
   "cell_type": "code",
   "execution_count": 59,
   "metadata": {},
   "outputs": [],
   "source": [
    "with open('day6.txt', 'r') as f:\n",
    "    data = np.loadtxt(f, delimiter=',', dtype=int)"
   ]
  },
  {
   "cell_type": "code",
   "execution_count": 60,
   "metadata": {},
   "outputs": [
    {
     "data": {
      "text/plain": [
       "390011"
      ]
     },
     "execution_count": 60,
     "metadata": {},
     "output_type": "execute_result"
    }
   ],
   "source": [
    "def after_n_days(data, n):\n",
    "    data_out = data.copy()\n",
    "    for i in range(n):\n",
    "        mask = np.where(data_out == 0)\n",
    "        data_out[mask] = 7\n",
    "        data_out = np.append(data_out, [9]*mask[0].size)\n",
    "        data_out -= 1\n",
    "    return data_out.size\n",
    "\n",
    "after_n_days(data, 80)"
   ]
  },
  {
   "cell_type": "code",
   "execution_count": 63,
   "metadata": {},
   "outputs": [
    {
     "data": {
      "text/plain": [
       "1746710169834"
      ]
     },
     "execution_count": 63,
     "metadata": {},
     "output_type": "execute_result"
    }
   ],
   "source": [
    "def after_n_days_efficient(data, n):\n",
    "    # Make a list of how possible cycle days and how many fish are there in each\n",
    "    fish_per_cycle = np.zeros(10, dtype=int)\n",
    "    for fish in data:\n",
    "        fish_per_cycle[fish] += 1\n",
    "\n",
    "    # rewrite the algorithm\n",
    "    for day in range(n):\n",
    "        fish_per_cycle[7] += fish_per_cycle[0]\n",
    "        fish_per_cycle[9] += fish_per_cycle[0]\n",
    "        fish_per_cycle[0] = 0\n",
    "        fish_per_cycle = np.roll(fish_per_cycle, -1)\n",
    "    return fish_per_cycle.sum()\n",
    "\n",
    "after_n_days_efficient(data, 256)"
   ]
  },
  {
   "cell_type": "code",
   "execution_count": null,
   "metadata": {},
   "outputs": [],
   "source": []
  }
 ],
 "metadata": {
  "interpreter": {
   "hash": "f42c2d3d6625267a9e830b28e8e79df01a28894920f0b6847f2c4b07eecbb55a"
  },
  "kernelspec": {
   "display_name": "Python 3.8.8 64-bit ('base': conda)",
   "language": "python",
   "name": "python3"
  },
  "language_info": {
   "codemirror_mode": {
    "name": "ipython",
    "version": 3
   },
   "file_extension": ".py",
   "mimetype": "text/x-python",
   "name": "python",
   "nbconvert_exporter": "python",
   "pygments_lexer": "ipython3",
   "version": "3.8.8"
  },
  "orig_nbformat": 4
 },
 "nbformat": 4,
 "nbformat_minor": 2
}
