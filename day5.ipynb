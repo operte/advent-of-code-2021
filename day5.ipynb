{
 "cells": [
  {
   "cell_type": "code",
   "execution_count": null,
   "metadata": {},
   "outputs": [],
   "source": [
    "import numpy as np"
   ]
  },
  {
   "cell_type": "code",
   "execution_count": null,
   "metadata": {},
   "outputs": [],
   "source": [
    "lines = []\n",
    "with open('day5_example.txt','r') as f_in:\n",
    "    for line in f_in.readlines():\n",
    "        lines.append([list(map(int, x.split(','))) for x in line.split('->')])\n",
    "\n",
    "lines = np.array(lines)"
   ]
  },
  {
   "cell_type": "code",
   "execution_count": null,
   "metadata": {},
   "outputs": [],
   "source": [
    "diagram = np.zeros(lines.max(axis=0).max(axis=0) + 1)"
   ]
  },
  {
   "cell_type": "code",
   "execution_count": null,
   "metadata": {},
   "outputs": [],
   "source": [
    "for line in lines:\n",
    "    min_x, max_x = line[:,0].min(), line[:,0].max()\n",
    "    min_y, max_y = line[:,1].min(), line[:,1].max()\n",
    "    diagonal = not(((max_x - min_x) == 0) or ((max_y - min_y) == 0))\n",
    "    if not diagonal:\n",
    "        # print(diagram[min_x:max_x+1, min_y:max_y+1])\n",
    "        diagram[min_x:max_x+1, min_y:max_y+1] += 1\n",
    "    else:\n",
    "        # print(max([(max_x - min_x), (max_y - min_y)]))\n",
    "        signs = np.sign(np.diff(line, axis=0))[0]\n",
    "        # print(signs)\n",
    "        indices = np.array([np.arange(line[0,i], line[1,i]+signs[i], signs[i]) for i in [0,1]])\n",
    "        indices = np.ogrid[line[0,0]:line[1,0]+signs[0]:signs[0], line[0,1]:line[1,1]+signs[1]:signs[1]]\n",
    "        indices[0] = indices[0].T\n",
    "        diagram[indices] += 1\n",
    "        # print(diagram[min_x:max_x+1, min_y:max_y+1])"
   ]
  },
  {
   "cell_type": "code",
   "execution_count": null,
   "metadata": {},
   "outputs": [],
   "source": [
    "print(f\"Crossing points = {np.argwhere(diagram >= 2).shape[0]}\")"
   ]
  },
  {
   "cell_type": "code",
   "execution_count": null,
   "metadata": {},
   "outputs": [],
   "source": []
  }
 ],
 "metadata": {
  "interpreter": {
   "hash": "c30f2af5f468e7f5b45bcc30fca5f4886c90d54777aed916ed5f6294dfb24bf2"
  },
  "kernelspec": {
   "display_name": "Python 3.8.5 64-bit ('base': conda)",
   "language": "python",
   "name": "python3"
  },
  "language_info": {
   "codemirror_mode": {
    "name": "ipython",
    "version": 3
   },
   "file_extension": ".py",
   "mimetype": "text/x-python",
   "name": "python",
   "nbconvert_exporter": "python",
   "pygments_lexer": "ipython3",
   "version": "3.8.5"
  },
  "orig_nbformat": 4
 },
 "nbformat": 4,
 "nbformat_minor": 2
}
