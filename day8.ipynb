{
 "cells": [
  {
   "cell_type": "code",
   "execution_count": 1,
   "metadata": {},
   "outputs": [],
   "source": [
    "import numpy as np"
   ]
  },
  {
   "cell_type": "code",
   "execution_count": 187,
   "metadata": {},
   "outputs": [],
   "source": [
    "with open('day8.txt', 'r') as f_in:\n",
    "    all_ten, four_digits = [], []\n",
    "    for line in f_in.readlines():\n",
    "        line = line.split('|')\n",
    "        all_ten += [line[0].split()]\n",
    "        four_digits += [line[1].split()]"
   ]
  },
  {
   "cell_type": "code",
   "execution_count": 150,
   "metadata": {},
   "outputs": [
    {
     "data": {
      "text/plain": [
       "26"
      ]
     },
     "execution_count": 150,
     "metadata": {},
     "output_type": "execute_result"
    }
   ],
   "source": [
    "# part 1\n",
    "def digit_with_unique_number_of_segments(segments):\n",
    "    if len(segments) in [2, 4, 3, 7]:\n",
    "        return True\n",
    "    else:\n",
    "        return False\n",
    "\n",
    "counter = 0\n",
    "for digits in four_digits:\n",
    "    for digit in digits:\n",
    "        if digit_with_unique_number_of_segments(digit):\n",
    "            counter += 1\n",
    "\n",
    "counter"
   ]
  },
  {
   "cell_type": "code",
   "execution_count": 189,
   "metadata": {},
   "outputs": [],
   "source": [
    "def transform_to_set(all_ten, four_digits):\n",
    "    new_all_ten = []\n",
    "    new_four_digits = []\n",
    "    for i in all_ten:\n",
    "        new_all_ten += [np.array(list(map(set, i)))]\n",
    "    for i in four_digits:\n",
    "        new_four_digits += [np.array(list(map(set, i)))]\n",
    "    return new_all_ten, new_four_digits\n",
    "\n",
    "def get_lengths(array):\n",
    "    return np.array(list(map(len, array)))\n",
    "\n",
    "def find_map(all_ten):\n",
    "    segment_map = {i:None for i in range(10)}\n",
    "\n",
    "    number_of_segments = get_lengths(all_ten)\n",
    "    segment_map[1] = all_ten[np.where(number_of_segments == 2)[0][0]]\n",
    "    segment_map[4] = all_ten[np.where(number_of_segments == 4)[0][0]]\n",
    "    segment_map[7] = all_ten[np.where(number_of_segments == 3)[0][0]]\n",
    "    segment_map[8] = all_ten[np.where(number_of_segments == 7)[0][0]]\n",
    "\n",
    "    # print(segment_map)\n",
    "    mask_len_6 = np.where(number_of_segments == 6)[0]\n",
    "    len_6_number_of_segments = get_lengths(all_ten[mask_len_6] - segment_map[1]) + get_lengths(all_ten[mask_len_6] - segment_map[4])\n",
    "    segment_map[6] = all_ten[mask_len_6][np.where(len_6_number_of_segments == 8)[0][0]]\n",
    "    segment_map[0] = all_ten[mask_len_6][np.where(len_6_number_of_segments == 7)[0][0]]\n",
    "    segment_map[9] = all_ten[mask_len_6][np.where(len_6_number_of_segments == 6)[0][0]]\n",
    "\n",
    "    # print(segment_map)\n",
    "    mask_len_5 = np.where(number_of_segments == 5)[0]\n",
    "    len_5_number_of_segments = get_lengths(all_ten[mask_len_5] - segment_map[1]) + get_lengths(all_ten[mask_len_5] - segment_map[4])\n",
    "    segment_map[3] = all_ten[mask_len_5][np.where(len_5_number_of_segments == 5)[0][0]]\n",
    "    segment_map[2] = all_ten[mask_len_5][np.where(len_5_number_of_segments == 7)[0][0]]\n",
    "    segment_map[5] = all_ten[mask_len_5][np.where(len_5_number_of_segments == 6)[0][0]]\n",
    "\n",
    "    return segment_map\n",
    "\n",
    "def map_segments_to_number(four_digits, segment_map):\n",
    "    number = ''\n",
    "    for digit in four_digits:\n",
    "        for key, item in segment_map.items():\n",
    "            if digit == item:\n",
    "                number += str(key)\n",
    "\n",
    "    return int(number)"
   ]
  },
  {
   "cell_type": "code",
   "execution_count": 190,
   "metadata": {},
   "outputs": [],
   "source": [
    "all_ten, four_digits = transform_to_set(all_ten, four_digits)\n",
    "\n",
    "all_numbers = []\n",
    "for tens, fours in zip(all_ten, four_digits):\n",
    "    segment_map = find_map(tens)\n",
    "    all_numbers += [map_segments_to_number(fours, segment_map)]"
   ]
  },
  {
   "cell_type": "code",
   "execution_count": 191,
   "metadata": {},
   "outputs": [
    {
     "data": {
      "text/plain": [
       "1011785"
      ]
     },
     "execution_count": 191,
     "metadata": {},
     "output_type": "execute_result"
    }
   ],
   "source": [
    "sum(all_numbers)"
   ]
  },
  {
   "cell_type": "code",
   "execution_count": null,
   "metadata": {},
   "outputs": [],
   "source": []
  }
 ],
 "metadata": {
  "interpreter": {
   "hash": "f42c2d3d6625267a9e830b28e8e79df01a28894920f0b6847f2c4b07eecbb55a"
  },
  "kernelspec": {
   "display_name": "Python 3.8.8 64-bit ('base': conda)",
   "language": "python",
   "name": "python3"
  },
  "language_info": {
   "codemirror_mode": {
    "name": "ipython",
    "version": 3
   },
   "file_extension": ".py",
   "mimetype": "text/x-python",
   "name": "python",
   "nbconvert_exporter": "python",
   "pygments_lexer": "ipython3",
   "version": "3.8.8"
  },
  "orig_nbformat": 4
 },
 "nbformat": 4,
 "nbformat_minor": 2
}
