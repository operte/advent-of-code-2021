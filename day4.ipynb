{
 "cells": [
  {
   "cell_type": "code",
   "execution_count": 39,
   "metadata": {},
   "outputs": [],
   "source": [
    "import numpy as np"
   ]
  },
  {
   "cell_type": "code",
   "execution_count": 180,
   "metadata": {},
   "outputs": [],
   "source": [
    "with open('day4.txt','r') as f_in:\n",
    "    ordered_numbers = np.fromstring(f_in.readline(), sep=',', dtype='int')\n",
    "    f_in.readline() # Read the first blank line\n",
    "\n",
    "    boards = []\n",
    "    tmp = []\n",
    "    for line in f_in.readlines():\n",
    "        if line == '\\n':\n",
    "            boards.append(tmp)\n",
    "            tmp = []\n",
    "        else:\n",
    "            tmp.append([int(value) for value in line.split()])\n",
    "    boards.append(tmp)  # Add the last matrix\n",
    "\n",
    "boards = np.array(boards)"
   ]
  },
  {
   "cell_type": "code",
   "execution_count": 181,
   "metadata": {},
   "outputs": [
    {
     "name": "stdout",
     "output_type": "stream",
     "text": [
      "The first winning board is 34. It won with number 21.\n",
      "The last winning board is 22. It won with number 25.\n"
     ]
    }
   ],
   "source": [
    "mask = np.zeros_like(boards, dtype='bool')\n",
    "ordered_winning_boards = []\n",
    "ordered_winning_numbers = []\n",
    "ordered_winning_masks = []\n",
    "\n",
    "for iter,number in enumerate(ordered_numbers):\n",
    "    mask[np.where(boards == number)] = True\n",
    "    winning_boards = mask.all(axis=1).any(axis=1) | mask.all(axis=2).any(axis=1)\n",
    "    if winning_boards.any():\n",
    "        tmp_winning_boards = list(np.where(winning_boards == True)[0])\n",
    "        iter_winning_board = list(set(tmp_winning_boards) - set(ordered_winning_boards))\n",
    "        if iter_winning_board:\n",
    "            ordered_winning_boards += iter_winning_board\n",
    "            ordered_winning_numbers += [number]\n",
    "            ordered_winning_masks.append(mask.copy())\n",
    "        # print(iter, number, ordered_winning_boards, tmp_winning_boards, iter_winning_board)\n",
    "\n",
    "print(f\"The first winning board is {ordered_winning_boards[0]}. It won with number {ordered_winning_numbers[0]}.\")\n",
    "print(f\"The last winning board is {ordered_winning_boards[-1]}. It won with number {ordered_winning_numbers[-1]}.\")"
   ]
  },
  {
   "cell_type": "code",
   "execution_count": 182,
   "metadata": {},
   "outputs": [
    {
     "name": "stdout",
     "output_type": "stream",
     "text": [
      "The sum of all unmarked numbers in the 0th winning board is 794\n",
      "The product of the unmarked numbers sum and the winning number is 16674\n",
      "The sum of all unmarked numbers in the -1th winning board is 283\n",
      "The product of the unmarked numbers sum and the winning number is 7075\n"
     ]
    }
   ],
   "source": [
    "def get_score(winning_rank):\n",
    "    unmarked_numbers = np.ravel((boards * ~ordered_winning_masks[winning_rank])[ordered_winning_boards[winning_rank]])\n",
    "    unmarked_numbers = unmarked_numbers[np.where(unmarked_numbers != 0)]\n",
    "    unmarked_numbers_sum = unmarked_numbers.sum()\n",
    "\n",
    "    print(f\"The sum of all unmarked numbers in the {winning_rank}th winning board is {unmarked_numbers_sum}\")\n",
    "    print(f\"The product of the unmarked numbers sum and the winning number is {unmarked_numbers_sum * ordered_winning_numbers[winning_rank]}\")\n",
    "\n",
    "get_score(0)\n",
    "get_score(-1)"
   ]
  },
  {
   "cell_type": "code",
   "execution_count": null,
   "metadata": {},
   "outputs": [],
   "source": []
  }
 ],
 "metadata": {
  "interpreter": {
   "hash": "c30f2af5f468e7f5b45bcc30fca5f4886c90d54777aed916ed5f6294dfb24bf2"
  },
  "kernelspec": {
   "display_name": "Python 3.8.5 64-bit ('base': conda)",
   "language": "python",
   "name": "python3"
  },
  "language_info": {
   "codemirror_mode": {
    "name": "ipython",
    "version": 3
   },
   "file_extension": ".py",
   "mimetype": "text/x-python",
   "name": "python",
   "nbconvert_exporter": "python",
   "pygments_lexer": "ipython3",
   "version": "3.8.5"
  },
  "orig_nbformat": 4
 },
 "nbformat": 4,
 "nbformat_minor": 2
}
