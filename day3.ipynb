{
 "cells": [
  {
   "cell_type": "code",
   "execution_count": 252,
   "metadata": {},
   "outputs": [],
   "source": [
    "from functools import reduce\n",
    "\n",
    "import pandas as pd\n",
    "import numpy as np"
   ]
  },
  {
   "cell_type": "code",
   "execution_count": 257,
   "metadata": {},
   "outputs": [
    {
     "data": {
      "text/plain": [
       "0    3009600\n",
       "dtype: int64"
      ]
     },
     "execution_count": 257,
     "metadata": {},
     "output_type": "execute_result"
    }
   ],
   "source": [
    "raw = (\n",
    "    pd.read_csv('day3.txt', dtype='str', header=None)[0]\n",
    "    .str.split('', expand=True)\n",
    "    .drop(columns=[0, 13])\n",
    "    .astype('int').astype('bool')\n",
    ")\n",
    "\n",
    "def cols_to_decimal(df):\n",
    "    return (\n",
    "        df.astype('int').astype('str')\n",
    "        .agg(''.join, axis=1)\n",
    "        .apply(lambda x: int(x, 2))\n",
    "    )\n",
    "\n",
    "def prod_of_binaries(df1, df2):\n",
    "    return reduce(\n",
    "        lambda x,y: x*y,\n",
    "        map(cols_to_decimal, [df1.reset_index(drop=True), df2.reset_index(drop=True)])\n",
    "    )\n",
    "\n",
    "gamma_rate = raw.mode()\n",
    "epsilon_rate = ~raw.mode()\n",
    "prod_of_binaries(gamma_rate, epsilon_rate)"
   ]
  },
  {
   "cell_type": "code",
   "execution_count": 254,
   "metadata": {},
   "outputs": [
    {
     "data": {
      "text/plain": [
       "0    6940518\n",
       "dtype: int64"
      ]
     },
     "execution_count": 254,
     "metadata": {},
     "output_type": "execute_result"
    }
   ],
   "source": [
    "def get_mode(val, invert=False):\n",
    "    if round(val.mean(), 5) == 0.5:\n",
    "        mode = True\n",
    "    else:\n",
    "        mode = val.mode()[0]\n",
    "    return not(mode) if invert else mode\n",
    "\n",
    "\n",
    "def get_mask(df, invert=False):\n",
    "    mask = np.ones(df.shape[0], dtype='bool')\n",
    "    for col in df.columns:\n",
    "        mask  = mask  & (df.loc[mask, col] == get_mode(df.loc[mask , col], col, invert))\n",
    "        if mask.sum() == 1:\n",
    "            break\n",
    "    return mask\n",
    "\n",
    "O2_rating = raw[get_mask(raw, invert=False)]\n",
    "C02_rating = raw[get_mask(raw, invert=True)]\n",
    "prod_of_binaries(O2_rating, C02_rating)"
   ]
  },
  {
   "cell_type": "code",
   "execution_count": null,
   "metadata": {},
   "outputs": [],
   "source": []
  }
 ],
 "metadata": {
  "interpreter": {
   "hash": "c30f2af5f468e7f5b45bcc30fca5f4886c90d54777aed916ed5f6294dfb24bf2"
  },
  "kernelspec": {
   "display_name": "Python 3.8.5 64-bit ('base': conda)",
   "language": "python",
   "name": "python3"
  },
  "language_info": {
   "codemirror_mode": {
    "name": "ipython",
    "version": 3
   },
   "file_extension": ".py",
   "mimetype": "text/x-python",
   "name": "python",
   "nbconvert_exporter": "python",
   "pygments_lexer": "ipython3",
   "version": "3.8.5"
  },
  "orig_nbformat": 4
 },
 "nbformat": 4,
 "nbformat_minor": 2
}
