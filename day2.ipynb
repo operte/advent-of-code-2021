{
 "cells": [
  {
   "cell_type": "code",
   "execution_count": 3,
   "metadata": {},
   "outputs": [],
   "source": [
    "import pandas as pd"
   ]
  },
  {
   "cell_type": "code",
   "execution_count": 13,
   "metadata": {},
   "outputs": [
    {
     "data": {
      "text/plain": [
       "value    1855814\n",
       "dtype: int64"
      ]
     },
     "execution_count": 13,
     "metadata": {},
     "output_type": "execute_result"
    }
   ],
   "source": [
    "movement = pd.read_csv('day2.txt', delimiter=\" \", header=None).rename(columns={0: 'direction', 1: 'value'})\n",
    "movement.loc[movement['direction'] == 'up', 'value'] *= -1\n",
    "# movement['value'] = movement.apply(lambda row: row['value'] * (-1 if row['direction'] == 'up' else 1), axis=1)\n",
    "movement['direction'] = movement['direction'].map({'up': 'vertical', 'down': 'vertical', 'forward': 'horizontal'})\n",
    "movement.groupby('direction').sum().prod()"
   ]
  },
  {
   "cell_type": "code",
   "execution_count": 14,
   "metadata": {},
   "outputs": [
    {
     "data": {
      "text/plain": [
       "1845455714.0"
      ]
     },
     "execution_count": 14,
     "metadata": {},
     "output_type": "execute_result"
    }
   ],
   "source": [
    "movement = pd.read_csv('day2.txt', delimiter=\" \", header=None).rename(columns={0: 'direction', 1: 'value'})\n",
    "movement.loc[movement['direction'] == 'up', 'value'] *= -1\n",
    "# movement['value'] = movement.apply(lambda row: row['value'] * (-1 if row['direction'] == 'up' else 1), axis=1)\n",
    "\n",
    "# Compute the cumulative aim movements\n",
    "movement['aim'] = movement.loc[movement['direction'].isin(['up', 'down']), 'value'].cumsum()\n",
    "# Impute with last available values. Otherwise, impute with 0\n",
    "movement['aim'] = movement['aim'].fillna(method='ffill').fillna(0)\n",
    "\n",
    "# Drop vertical directions\n",
    "movement = movement[movement['direction'] == 'forward']\n",
    "movement['depth'] = movement['value'] * movement['aim']\n",
    "movement['value'].sum() * movement['depth'].sum()"
   ]
  }
 ],
 "metadata": {
  "interpreter": {
   "hash": "aee8b7b246df8f9039afb4144a1f6fd8d2ca17a180786b69acc140d282b71a49"
  },
  "kernelspec": {
   "display_name": "Python 3.9.7 64-bit",
   "language": "python",
   "name": "python3"
  },
  "language_info": {
   "codemirror_mode": {
    "name": "ipython",
    "version": 3
   },
   "file_extension": ".py",
   "mimetype": "text/x-python",
   "name": "python",
   "nbconvert_exporter": "python",
   "pygments_lexer": "ipython3",
   "version": "3.8.8"
  },
  "orig_nbformat": 4
 },
 "nbformat": 4,
 "nbformat_minor": 2
}
